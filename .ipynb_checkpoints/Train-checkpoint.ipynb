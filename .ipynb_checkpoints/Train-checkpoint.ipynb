{
 "cells": [
  {
   "cell_type": "code",
   "execution_count": 13,
   "metadata": {},
   "outputs": [],
   "source": [
    "from read_data import get_train_data\n",
    "from model import unet_model\n",
    "from sklearn.model_selection import train_test_split\n",
    "from keras.callbacks import EarlyStopping, ModelCheckpoint, ReduceLROnPlateau"
   ]
  },
  {
   "cell_type": "code",
   "execution_count": 2,
   "metadata": {},
   "outputs": [
    {
     "name": "stdout",
     "output_type": "stream",
     "text": [
      "Getting and resizing train images and masks ... \n",
      "669/670 [============================>.] - ETA: 0s"
     ]
    }
   ],
   "source": [
    "# get train_data\n",
    "train_img, train_mask = get_train_data()"
   ]
  },
  {
   "cell_type": "code",
   "execution_count": 11,
   "metadata": {},
   "outputs": [],
   "source": [
    "# Splitting into train and validation\n",
    "X_train, X_valid, y_train, y_valid = train_test_split(train_img, train_mask, test_size=0.15, random_state=2020)"
   ]
  },
  {
   "cell_type": "code",
   "execution_count": 3,
   "metadata": {},
   "outputs": [],
   "source": [
    "# get u_net model using elu activation func\n",
    "unet_elu = unet_model(activation=\"elu\")"
   ]
  },
  {
   "cell_type": "code",
   "execution_count": 14,
   "metadata": {},
   "outputs": [],
   "source": [
    "# Specify EarlyStop, Learning Rate decreasing and Model Checkpoint\n",
    "callbacks = [\n",
    "    EarlyStopping(monitor='dice_coef', mode='max', patience=4, verbose=1),\n",
    "    ReduceLROnPlateau(factor=0.1, patience=3, min_lr=0.00001, verbose=1),\n",
    "    ModelCheckpoint('model_weights.h5', verbose=1, save_best_only=True, save_weights_only=True)\n",
    "]"
   ]
  },
  {
   "cell_type": "code",
   "execution_count": 16,
   "metadata": {},
   "outputs": [
    {
     "name": "stdout",
     "output_type": "stream",
     "text": [
      "Train on 569 samples, validate on 101 samples\n",
      "Epoch 1/3\n",
      "569/569 [==============================] - 293s 516ms/step - loss: 0.3878 - dice_coef: 0.3125 - val_loss: 0.1935 - val_dice_coef: 0.5521\n",
      "\n",
      "Epoch 00001: val_loss improved from inf to 0.19346, saving model to model_weights.h5\n",
      "Epoch 2/3\n",
      "569/569 [==============================] - 307s 540ms/step - loss: 0.1966 - dice_coef: 0.6421 - val_loss: 0.1368 - val_dice_coef: 0.7462\n",
      "\n",
      "Epoch 00002: val_loss improved from 0.19346 to 0.13682, saving model to model_weights.h5\n",
      "Epoch 3/3\n",
      "569/569 [==============================] - 329s 579ms/step - loss: 0.1511 - dice_coef: 0.7279 - val_loss: 0.0937 - val_dice_coef: 0.8065\n",
      "\n",
      "Epoch 00003: val_loss improved from 0.13682 to 0.09373, saving model to model_weights.h5\n"
     ]
    },
    {
     "data": {
      "text/plain": [
       "<keras.callbacks.callbacks.History at 0x17e648eca48>"
      ]
     },
     "execution_count": 16,
     "metadata": {},
     "output_type": "execute_result"
    }
   ],
   "source": [
    "# Training\n",
    "unet_elu.fit(X_train, y_train, batch_size=16, epochs=50,\n",
    "                  validation_data=(X_valid, y_valid), callbacks=callbacks)"
   ]
  },
  {
   "cell_type": "code",
   "execution_count": null,
   "metadata": {},
   "outputs": [],
   "source": []
  }
 ],
 "metadata": {
  "kernelspec": {
   "display_name": "Python 3",
   "language": "python",
   "name": "python3"
  },
  "language_info": {
   "codemirror_mode": {
    "name": "ipython",
    "version": 3
   },
   "file_extension": ".py",
   "mimetype": "text/x-python",
   "name": "python",
   "nbconvert_exporter": "python",
   "pygments_lexer": "ipython3",
   "version": "3.7.4"
  }
 },
 "nbformat": 4,
 "nbformat_minor": 2
}
